{
 "cells": [
  {
   "cell_type": "code",
   "execution_count": 23,
   "id": "2863276e",
   "metadata": {},
   "outputs": [
    {
     "name": "stdout",
     "output_type": "stream",
     "text": [
      "A: [10, 20, 30, 25, 35, 32, 22, 21, 25, 27, 28, 29, 28, 32, 30, 20, 10, 8, 12, 22, 12, 14, 15, 12, 14, 18, 19, 20, 22]\n",
      "t kritis: 1.701\n",
      "Mean: 21.103\n",
      "Standard Deviation: 7.645\n",
      "\n",
      "t (10) = -7.821 -> TIDAK LOLOS\n",
      "t (20) = -0.777 -> LOLOS\n",
      "t (30) = 6.266 -> TIDAK LOLOS\n",
      "t (25) = 2.745 -> TIDAK LOLOS\n",
      "t (35) = 9.788 -> TIDAK LOLOS\n",
      "t (32) = 7.675 -> TIDAK LOLOS\n",
      "t (22) = 0.631 -> LOLOS\n",
      "t (21) = -0.073 -> LOLOS\n",
      "t (25) = 2.745 -> TIDAK LOLOS\n",
      "t (27) = 4.153 -> TIDAK LOLOS\n",
      "t (28) = 4.858 -> TIDAK LOLOS\n",
      "t (29) = 5.562 -> TIDAK LOLOS\n",
      "t (28) = 4.858 -> TIDAK LOLOS\n",
      "t (32) = 7.675 -> TIDAK LOLOS\n",
      "t (30) = 6.266 -> TIDAK LOLOS\n",
      "t (20) = -0.777 -> LOLOS\n",
      "t (10) = -7.821 -> TIDAK LOLOS\n",
      "t (8) = -9.230 -> TIDAK LOLOS\n",
      "t (12) = -6.412 -> TIDAK LOLOS\n",
      "t (22) = 0.631 -> LOLOS\n",
      "t (12) = -6.412 -> TIDAK LOLOS\n",
      "t (14) = -5.003 -> TIDAK LOLOS\n",
      "t (15) = -4.299 -> TIDAK LOLOS\n",
      "t (12) = -6.412 -> TIDAK LOLOS\n",
      "t (14) = -5.003 -> TIDAK LOLOS\n",
      "t (18) = -2.186 -> TIDAK LOLOS\n",
      "t (19) = -1.482 -> LOLOS\n",
      "t (20) = -0.777 -> LOLOS\n",
      "t (22) = 0.631 -> LOLOS\n",
      "\n",
      "Jumlah data lolos = 8, diantaranya: [20, 22, 21, 20, 22, 19, 20, 22]\n",
      "Jumlah data ditolak = 21, diantaranya: [10, 30, 25, 35, 32, 25, 27, 28, 29, 28, 32, 30, 10, 8, 12, 12, 14, 15, 12, 14, 18]\n"
     ]
    }
   ],
   "source": [
    "import numpy as np \n",
    "from scipy.stats import t\n",
    "\n",
    "# import data\n",
    "A = [10, 20, 30, 25, 35, 32, 22, 21, 25, 27, 28, 29, 28 , 32, 30, 20, 10, 8, 12, 22, 12, 14, 15, 12, 14, 18, 19, 20 , 22]\n",
    "n_data = len(A)\n",
    "\n",
    "df = n_data - 1 # derajat kebebasan\n",
    "c = 0.9 # konfidensi\n",
    "alpha = 1 - c\n",
    "t_kritis = t.ppf(1 - alpha/2, df)\n",
    "\n",
    "mean = np.mean(A)\n",
    "std = np.std(A, ddof=1)\n",
    "\n",
    "print(f'A: {A}\\nt kritis: {t_kritis:.3f}\\nMean: {mean:.3f}\\nStandard Deviation: {std:.3f}\\n')\n",
    "t_values = []\n",
    "t_lolos = []\n",
    "t_ditolak = []\n",
    "for i in A:\n",
    "    ti = (i - mean) / (std / np.sqrt(n_data))\n",
    "    t_values.append(ti)\n",
    "    \n",
    "    if -t_kritis < ti < t_kritis:\n",
    "        t_lolos.append(i)\n",
    "        print(f't ({i}) = {ti:.3f} -> LOLOS')\n",
    "    else:\n",
    "        t_ditolak.append(i)\n",
    "        print(f't ({i}) = {ti:.3f} -> TIDAK LOLOS')\n",
    "\n",
    "print(f\"\\nJumlah data lolos = {len(t_lolos)}, diantaranya: {t_lolos}\")\n",
    "print(f\"Jumlah data ditolak = {len(t_ditolak)}, diantaranya: {t_ditolak}\")\n"
   ]
  }
 ],
 "metadata": {
  "kernelspec": {
   "display_name": "base",
   "language": "python",
   "name": "python3"
  },
  "language_info": {
   "codemirror_mode": {
    "name": "ipython",
    "version": 3
   },
   "file_extension": ".py",
   "mimetype": "text/x-python",
   "name": "python",
   "nbconvert_exporter": "python",
   "pygments_lexer": "ipython3",
   "version": "3.12.4"
  }
 },
 "nbformat": 4,
 "nbformat_minor": 5
}
